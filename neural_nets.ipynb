{
 "cells": [
  {
   "cell_type": "code",
   "execution_count": 25,
   "metadata": {
    "collapsed": true
   },
   "outputs": [
    {
     "name": "stdout",
     "output_type": "stream",
     "text": [
      "Using matplotlib backend: Qt5Agg\n"
     ]
    },
    {
     "name": "stdout",
     "output_type": "stream",
     "text": [
      "Score on train data: 0.988\nScore on test data: 0.972\n"
     ]
    }
   ],
   "source": [
    "%matplotlib\n",
    "import scipy\n",
    "import numpy as np\n",
    "import matplotlib\n",
    "import matplotlib.pyplot as plt\n",
    "from sklearn.datasets import load_iris, load_breast_cancer, make_moons, make_blobs\n",
    "from sklearn.model_selection import train_test_split\n",
    "from sklearn.neural_network import MLPClassifier\n",
    "import pandas as pd\n",
    "\n",
    "import mglearn\n",
    "\n",
    "\n",
    "def run_neural_net():\n",
    "    cancer = load_breast_cancer()\n",
    "    # print('Cancer data per-feature maxima:\\n{}'.format(cancer.data.max(axis=0)))\n",
    "    X_train, X_test, y_train, y_test = train_test_split(\n",
    "        cancer.data, cancer.target, random_state=0\n",
    "    )\n",
    "    mean_on_train = X_train.mean(axis=0)\n",
    "    std_on_train = X_train.std(axis=0)\n",
    "    X_train_scaled = (X_train - mean_on_train) / std_on_train\n",
    "    X_test_scaled = (X_test - mean_on_train) / std_on_train\n",
    "    \n",
    "    mlp = MLPClassifier(max_iter=1000, alpha=1, random_state=0)\n",
    "    mlp.fit(X_train_scaled, y_train)\n",
    "    print('Score on train data: {:.3f}'.format(mlp.score(X_train_scaled, y_train)))\n",
    "    print('Score on test data: {:.3f}'.format(mlp.score(X_test_scaled, y_test)))\n",
    "\n",
    "\n",
    "def main():\n",
    "    run_neural_net()\n",
    "    \n",
    "    \n",
    "if __name__ == '__main__':\n",
    "    main()"
   ]
  },
  {
   "cell_type": "code",
   "execution_count": null,
   "metadata": {},
   "outputs": [],
   "source": [
    ""
   ]
  }
 ],
 "metadata": {
  "kernelspec": {
   "display_name": "Python 2",
   "language": "python",
   "name": "python2"
  },
  "language_info": {
   "codemirror_mode": {
    "name": "ipython",
    "version": 2.0
   },
   "file_extension": ".py",
   "mimetype": "text/x-python",
   "name": "python",
   "nbconvert_exporter": "python",
   "pygments_lexer": "ipython2",
   "version": "2.7.6"
  }
 },
 "nbformat": 4,
 "nbformat_minor": 0
}