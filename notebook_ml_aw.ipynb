{
 "cells": [
  {
   "cell_type": "code",
   "execution_count": 29,
   "metadata": {
    "collapsed": true
   },
   "outputs": [
    {
     "name": "stderr",
     "output_type": "stream",
     "text": [
      "ERROR:root:Line magic function `%matplotlibinline` not found.\n"
     ]
    },
    {
     "name": "stdout",
     "output_type": "stream",
     "text": [
      "Accuracy on training set: 0.988\nAccuracy on test set: 0.951\nFeature importances: \n[ 0.          0.          0.          0.          0.          0.          0.\n  0.          0.          0.          0.01019737  0.04839825  0.          0.\n  0.0024156   0.          0.          0.          0.          0.\n  0.72682851  0.0458159   0.          0.          0.0141577   0.          0.018188\n  0.1221132   0.01188548  0.        ]\n"
     ]
    }
   ],
   "source": [
    "%matplotlib inline\n",
    "import scipy\n",
    "import numpy as np\n",
    "import matplotlib\n",
    "import matplotlib.pyplot as plt\n",
    "from sklearn.datasets import load_iris, load_breast_cancer\n",
    "from sklearn.model_selection import train_test_split\n",
    "from sklearn.tree import DecisionTreeClassifier, export_graphviz\n",
    "from sklearn.neighbors import KNeighborsClassifier\n",
    "import pandas as pd\n",
    "\n",
    "import mglearn\n",
    "\n",
    "\n",
    "def plot_feature_importances_cancer(model, dataset):\n",
    "    n_features = dataset.data.shape[1]\n",
    "    \n",
    "    plt.barh(range(n_features), model.feature_importances_, align='center')\n",
    "    plt.yticks(np.arange(n_features), dataset.feature_names)\n",
    "    plt.xlabel('Feature importance')\n",
    "    plt.ylabel('Feature')\n",
    "\n",
    "\n",
    "def main():\n",
    "    dataset = load_breast_cancer()\n",
    "\n",
    "    # X is the data points and y is the labels\n",
    "    X_train, X_test, y_train, y_test = train_test_split(\n",
    "        dataset.data,\n",
    "        dataset.target,\n",
    "        stratify=dataset.target,\n",
    "        random_state=42\n",
    "    )\n",
    "\n",
    "    tree = DecisionTreeClassifier(random_state=0, max_depth=4)\n",
    "    tree.fit(X_train, y_train)\n",
    "    print('Accuracy on training set: {:.3f}'.format(tree.score(X_train, y_train)))\n",
    "    print('Accuracy on test set: {:.3f}'.format(tree.score(X_test, y_test)))\n",
    "    print('Feature importances: \\n{}'.format(tree.feature_importances_))\n",
    "    plot_feature_importances_cancer(tree, dataset)\n",
    "    \n",
    "    \n",
    "if __name__ == '__main__':\n",
    "    main()"
   ]
  },
  {
   "cell_type": "code",
   "execution_count": 18,
   "metadata": {
    "collapsed": true
   },
   "outputs": [],
   "source": [
    ""
   ]
  },
  {
   "cell_type": "code",
   "execution_count": null,
   "metadata": {},
   "outputs": [],
   "source": [
    ""
   ]
  }
 ],
 "metadata": {
  "kernelspec": {
   "display_name": "Python 3",
   "language": "python",
   "name": "python3"
  },
  "language_info": {
   "codemirror_mode": {
    "name": "ipython",
    "version": 3.0
   },
   "file_extension": ".py",
   "mimetype": "text/x-python",
   "name": "python",
   "nbconvert_exporter": "python",
   "pygments_lexer": "ipython3",
   "version": "3.6.0"
  }
 },
 "nbformat": 4,
 "nbformat_minor": 0
}