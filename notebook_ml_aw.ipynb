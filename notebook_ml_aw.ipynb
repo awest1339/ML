{
 "cells": [
  {
   "cell_type": "code",
   "execution_count": 17,
   "metadata": {
    "collapsed": false
   },
   "outputs": [
    {
     "name": "stdout",
     "output_type": "stream",
     "text": [
      "Using matplotlib backend: Qt5Agg\nTest set score: 0.97\n"
     ]
    }
   ],
   "source": [
    "%matplotlib\n",
    "import scipy\n",
    "import numpy as np\n",
    "import matplotlib\n",
    "import matplotlib.pyplot as plt\n",
    "from sklearn.datasets import load_iris\n",
    "from sklearn.model_selection import train_test_split\n",
    "from sklearn.neighbors import KNeighborsClassifier\n",
    "import pandas as pd\n",
    "\n",
    "import mglearn\n",
    "\n",
    "\n",
    "def main():\n",
    "    dataset = load_iris()\n",
    "\n",
    "    # X is the data points and y is the labels\n",
    "    X_train, X_test, y_train, y_test = train_test_split(\n",
    "        dataset['data'],\n",
    "        dataset['target'],\n",
    "        random_state=0\n",
    "    )\n",
    "\n",
    "    iris_dataframe = pd.DataFrame(X_train, columns=dataset.feature_names)\n",
    "    '''\n",
    "    grr = pd.scatter_matrix(iris_dataframe, c=y_train, figsize=(15, 15),\n",
    "                            marker='o', hist_kwds={'bins': 20},\n",
    "                            s=60, alpha=.8, cmap=mglearn.cm3)\n",
    "    '''\n",
    "    knn = KNeighborsClassifier(n_neighbors=1)\n",
    "    knn.fit(X_train, y_train)\n",
    "\n",
    "    y_pred = knn.predict(X_test)\n",
    "    print('Test set score: {:.2f}'.format(knn.score(X_test, y_test)))\n",
    "\n",
    "    \n",
    "    \n",
    "if __name__ == '__main__':\n",
    "    main()"
   ]
  },
  {
   "cell_type": "code",
   "execution_count": 18,
   "metadata": {
    "collapsed": true
   },
   "outputs": [],
   "source": [
    ""
   ]
  },
  {
   "cell_type": "code",
   "execution_count": null,
   "metadata": {},
   "outputs": [],
   "source": [
    ""
   ]
  }
 ],
 "metadata": {
  "kernelspec": {
   "display_name": "Python 3",
   "language": "python",
   "name": "python3"
  },
  "language_info": {
   "codemirror_mode": {
    "name": "ipython",
    "version": 3.0
   },
   "file_extension": ".py",
   "mimetype": "text/x-python",
   "name": "python",
   "nbconvert_exporter": "python",
   "pygments_lexer": "ipython3",
   "version": "3.6.0"
  }
 },
 "nbformat": 4,
 "nbformat_minor": 0
}